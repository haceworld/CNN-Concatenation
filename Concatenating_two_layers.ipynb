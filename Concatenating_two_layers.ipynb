{
  "nbformat": 4,
  "nbformat_minor": 0,
  "metadata": {
    "colab": {
      "name": "Concatenating two layers.ipynb",
      "provenance": [],
      "authorship_tag": "ABX9TyMHWW5s+oosdBpt83Zcd7pJ",
      "include_colab_link": true
    },
    "kernelspec": {
      "name": "python3",
      "display_name": "Python 3"
    },
    "language_info": {
      "name": "python"
    }
  },
  "cells": [
    {
      "cell_type": "markdown",
      "metadata": {
        "id": "view-in-github",
        "colab_type": "text"
      },
      "source": [
        "<a href=\"https://colab.research.google.com/github/haceworld/CNN-Concatenation/blob/main/Concatenating_two_layers.ipynb\" target=\"_parent\"><img src=\"https://colab.research.google.com/assets/colab-badge.svg\" alt=\"Open In Colab\"/></a>"
      ]
    },
    {
      "cell_type": "code",
      "execution_count": 6,
      "metadata": {
        "colab": {
          "base_uri": "https://localhost:8080/"
        },
        "id": "VFc79tLUfzrV",
        "outputId": "790c19c9-fca8-4dd4-891b-eaa3e4b43ba8"
      },
      "outputs": [
        {
          "output_type": "stream",
          "name": "stdout",
          "text": [
            "Model: \"model_1\"\n",
            "__________________________________________________________________________________________________\n",
            " Layer (type)                   Output Shape         Param #     Connected to                     \n",
            "==================================================================================================\n",
            " input_11 (InputLayer)          [(None, 224, 224, 3  0           []                               \n",
            "                                )]                                                                \n",
            "                                                                                                  \n",
            " input_12 (InputLayer)          [(None, 112, 112, 3  0           []                               \n",
            "                                )]                                                                \n",
            "                                                                                                  \n",
            " conv2d_12 (Conv2D)             (None, 222, 222, 64  1792        ['input_11[0][0]']               \n",
            "                                )                                                                 \n",
            "                                                                                                  \n",
            " conv2d_14 (Conv2D)             (None, 110, 110, 64  1792        ['input_12[0][0]']               \n",
            "                                )                                                                 \n",
            "                                                                                                  \n",
            " conv2d_13 (Conv2D)             (None, 220, 220, 32  18464       ['conv2d_12[0][0]']              \n",
            "                                )                                                                 \n",
            "                                                                                                  \n",
            " conv2d_15 (Conv2D)             (None, 108, 108, 32  18464       ['conv2d_14[0][0]']              \n",
            "                                )                                                                 \n",
            "                                                                                                  \n",
            " flatten_6 (Flatten)            (None, 1548800)      0           ['conv2d_13[0][0]']              \n",
            "                                                                                                  \n",
            " flatten_7 (Flatten)            (None, 373248)       0           ['conv2d_15[0][0]']              \n",
            "                                                                                                  \n",
            " dense_8 (Dense)                (None, 5)            7744005     ['flatten_6[0][0]']              \n",
            "                                                                                                  \n",
            " dense_9 (Dense)                (None, 5)            1866245     ['flatten_7[0][0]']              \n",
            "                                                                                                  \n",
            " concatenate_5 (Concatenate)    (None, 10)           0           ['dense_8[0][0]',                \n",
            "                                                                  'dense_9[0][0]']                \n",
            "                                                                                                  \n",
            " dense_10 (Dense)               (None, 4)            44          ['concatenate_5[0][0]']          \n",
            "                                                                                                  \n",
            "==================================================================================================\n",
            "Total params: 9,650,806\n",
            "Trainable params: 9,650,806\n",
            "Non-trainable params: 0\n",
            "__________________________________________________________________________________________________\n",
            "None\n"
          ]
        }
      ],
      "source": [
        "import tensorflow as tf\n",
        "\n",
        "from tensorflow import keras\n",
        "\n",
        "\n",
        "image_model = keras.models.Sequential()\n",
        "\n",
        "# Image\n",
        "input_1 = tf.keras.layers.Input(shape=(224, 224, 3))\n",
        "conv2d_1 = tf.keras.layers.Conv2D(64, kernel_size=3,\n",
        "                                  activation=tf.keras.activations.relu)(input_1)\n",
        "\n",
        "# Second conv layer :\n",
        "conv2d_2 = tf.keras.layers.Conv2D(32, kernel_size=3,\n",
        "                                  activation=tf.keras.activations.relu)(conv2d_1)\n",
        "\n",
        "# Flatten layer :\n",
        "flatten = tf.keras.layers.Flatten()(conv2d_2)\n",
        "flatten1 = tf.keras.layers.Dense(5, activation=tf.keras.activations.relu)(flatten)\n",
        "\n",
        "\n",
        "# The other input\n",
        "input_2 = tf.keras.layers.Input(shape=(112, 112, 3))\n",
        "\n",
        "conv2d_3 = tf.keras.layers.Conv2D(64, kernel_size=3,\n",
        "                                  activation=tf.keras.activations.relu)(input_2)\n",
        "\n",
        "# Second conv layer :\n",
        "conv2d_4 = tf.keras.layers.Conv2D(32, kernel_size=3,\n",
        "                                  activation=tf.keras.activations.relu)(conv2d_3)\n",
        "# Flatten layer :\n",
        "flatten3 = tf.keras.layers.Flatten()(conv2d_4)\n",
        "flatten4 = tf.keras.layers.Dense(5, activation=tf.keras.activations.relu)(flatten3)\n",
        "\n",
        "# Concatenate\n",
        "concat = tf.keras.layers.Concatenate()([flatten1, flatten4])\n",
        "\n",
        "n_classes = 4\n",
        "# output layer\n",
        "output = tf.keras.layers.Dense(units=n_classes,\n",
        "                               activation=tf.keras.activations.softmax)(concat)\n",
        "\n",
        "full_model = tf.keras.Model(inputs=[input_1, input_2], outputs=[output])\n",
        "\n",
        "print(full_model.summary())\n"
      ]
    }
  ]
}